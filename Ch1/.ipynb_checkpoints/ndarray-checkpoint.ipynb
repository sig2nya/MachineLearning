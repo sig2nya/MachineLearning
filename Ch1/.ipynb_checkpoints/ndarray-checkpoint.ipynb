{
 "cells": [
  {
   "cell_type": "markdown",
   "id": "c1e80d21",
   "metadata": {},
   "source": [
    "Numpy ndarray 개요\n",
    "================"
   ]
  },
  {
   "cell_type": "markdown",
   "id": "5578ce06",
   "metadata": {},
   "source": [
    "###### 1. ndarray : numpy의 N차원 배열 객체\n",
    "###### - Python의 list와 가장 큰 차이점은, 하나의 data type만 넣을 수 있다.\n",
    "###### - C의 array와 동일하다"
   ]
  },
  {
   "cell_type": "code",
   "execution_count": 6,
   "id": "40edad4c",
   "metadata": {},
   "outputs": [],
   "source": [
    "import numpy as np"
   ]
  },
  {
   "cell_type": "code",
   "execution_count": 16,
   "id": "f29f2d7e",
   "metadata": {},
   "outputs": [],
   "source": [
    "a = [1, 2, 3, 4, 5]\n",
    "a_ndarr = np.array(a, int) # a array를 int type으로 선언"
   ]
  },
  {
   "cell_type": "code",
   "execution_count": 4,
   "id": "c5bbbd28",
   "metadata": {},
   "outputs": [
    {
     "name": "stdout",
     "output_type": "stream",
     "text": [
      "list type :  <class 'list'>\n"
     ]
    }
   ],
   "source": [
    "list1 = [1, 2, 3]\n",
    "print('list type : ', type(list1))"
   ]
  },
  {
   "cell_type": "code",
   "execution_count": 9,
   "id": "cde1e8be",
   "metadata": {},
   "outputs": [
    {
     "name": "stdout",
     "output_type": "stream",
     "text": [
      "array1 type :  <class 'numpy.ndarray'>\n",
      "array1 array 형태 :  (3,)\n"
     ]
    }
   ],
   "source": [
    "array1 = np.array(list1)\n",
    "print('array1 type : ', type(array1))\n",
    "print('array1 array 형태 : ', array1.shape)"
   ]
  },
  {
   "cell_type": "code",
   "execution_count": 14,
   "id": "12afd5c1",
   "metadata": {},
   "outputs": [
    {
     "name": "stdout",
     "output_type": "stream",
     "text": [
      "array2 type :  <class 'numpy.ndarray'>\n",
      "array2 array 형태 :  (2, 3)\n"
     ]
    }
   ],
   "source": [
    "array2 = np.array([[1, 2, 3], [2, 3, 4]])\n",
    "print('array2 type : ', type(array2))\n",
    "print('array2 array 형태 : ', array2.shape)"
   ]
  },
  {
   "cell_type": "code",
   "execution_count": 15,
   "id": "8f5a8f3b",
   "metadata": {},
   "outputs": [
    {
     "name": "stdout",
     "output_type": "stream",
     "text": [
      "array3 type :  <class 'numpy.ndarray'>\n",
      "array3 array 형태 :  (1, 3)\n"
     ]
    }
   ],
   "source": [
    "array3 = np.array([[1, 2, 3]])\n",
    "print('array3 type : ', type(array3))\n",
    "print('array3 array 형태 : ', array3.shape)"
   ]
  },
  {
   "cell_type": "code",
   "execution_count": 20,
   "id": "e041947a",
   "metadata": {},
   "outputs": [
    {
     "name": "stdout",
     "output_type": "stream",
     "text": [
      "array1 : 1차원, array2 : 2차원, array3 :  2차원\n"
     ]
    }
   ],
   "source": [
    "print('array1 : {:0}차원, array2 : {:1}차원, array3 : {:2}차원'.format(array1.ndim, array2.ndim, array3.ndim))"
   ]
  },
  {
   "cell_type": "code",
   "execution_count": 17,
   "id": "ef6a869f",
   "metadata": {
    "scrolled": true
   },
   "outputs": [
    {
     "name": "stdout",
     "output_type": "stream",
     "text": [
      "(3, 3)\n",
      "int32\n"
     ]
    }
   ],
   "source": [
    "c = [[1, 2, 3],\n",
    "     [4, 5, 6],\n",
    "     [7, 8, 9]]\n",
    "c_ndarr = np.array(c, int)\n",
    "print(c_ndarr.shape)\n",
    "print(c_ndarr.dtype)"
   ]
  },
  {
   "cell_type": "code",
   "execution_count": 19,
   "id": "67a5183f",
   "metadata": {
    "scrolled": false
   },
   "outputs": [
    {
     "name": "stdout",
     "output_type": "stream",
     "text": [
      "(4, 3, 4)\n",
      "3\n",
      "48\n",
      "int8\n"
     ]
    }
   ],
   "source": [
    "d = [[[1, 2, 5, 8], [1, 2, 5, 8], [1, 2, 5, 8]],\n",
    "     [[1, 2, 5, 8], [1, 2, 5, 8], [1, 2, 5, 8]],\n",
    "     [[1, 2, 5, 8], [1, 2, 5, 8], [1, 2, 5, 8]],\n",
    "     [[1, 2, 5, 8], [1, 2, 5, 8], [1, 2, 5, 8]]]\n",
    "\n",
    "d_ndarr = np.array(d, int)\n",
    "print(d_ndarr.shape) #3rd order tensor\n",
    "print(d_ndarr.ndim) #number of dimensions\n",
    "print(d_ndarr.size) # 4 * 3 * 4\n",
    "\n",
    "d_ndarr = np.array(d, dtype=np.int8)\n",
    "print(d_ndarr.dtype) # int8"
   ]
  },
  {
   "cell_type": "markdown",
   "id": "f3bb9420",
   "metadata": {},
   "source": [
    "ndarray의 데이터 타입\n",
    "================="
   ]
  },
  {
   "cell_type": "code",
   "execution_count": 24,
   "id": "9d19ac98",
   "metadata": {},
   "outputs": [
    {
     "name": "stdout",
     "output_type": "stream",
     "text": [
      "<class 'list'>\n",
      "<class 'numpy.ndarray'>\n",
      "[1 2 3] int32\n"
     ]
    }
   ],
   "source": [
    "list1 = [1, 2, 3]\n",
    "print(type(list1))\n",
    "array1 = np.array(list1)\n",
    "print(type(array1))\n",
    "print(array1, array1.dtype)"
   ]
  },
  {
   "cell_type": "code",
   "execution_count": 25,
   "id": "b397c55f",
   "metadata": {},
   "outputs": [
    {
     "name": "stdout",
     "output_type": "stream",
     "text": [
      "['1' '2' 'test']  /  <U11\n"
     ]
    }
   ],
   "source": [
    "list2 = [1, 2, 'test']\n",
    "array2 = np.array(list2)\n",
    "print(array2, \" / \", array2.dtype)"
   ]
  },
  {
   "cell_type": "code",
   "execution_count": 26,
   "id": "aa976298",
   "metadata": {},
   "outputs": [
    {
     "name": "stdout",
     "output_type": "stream",
     "text": [
      "[1. 2. 3.]  /  float64\n"
     ]
    }
   ],
   "source": [
    "list3 = [1, 2, 3.0]\n",
    "array3 = np.array(list3)\n",
    "print(array3, \" / \", array3.dtype)"
   ]
  },
  {
   "cell_type": "code",
   "execution_count": 31,
   "id": "eb03bc3e",
   "metadata": {},
   "outputs": [
    {
     "name": "stdout",
     "output_type": "stream",
     "text": [
      "[1. 2. 3.]  /  float64\n"
     ]
    }
   ],
   "source": [
    "array_int = np.array([1, 2, 3])\n",
    "array_float = array_int.astype('float64')\n",
    "print(array_float, \" / \", array_float.dtype)"
   ]
  },
  {
   "cell_type": "code",
   "execution_count": 32,
   "id": "d3f72ddc",
   "metadata": {},
   "outputs": [
    {
     "name": "stdout",
     "output_type": "stream",
     "text": [
      "[1 2 3]  /  int32\n"
     ]
    }
   ],
   "source": [
    "array_int1 = array_float.astype('int32')\n",
    "print(array_int1,  \" / \", array_int1.dtype)"
   ]
  },
  {
   "cell_type": "code",
   "execution_count": 33,
   "id": "493db3af",
   "metadata": {},
   "outputs": [
    {
     "name": "stdout",
     "output_type": "stream",
     "text": [
      "[1 2 3] int32\n"
     ]
    }
   ],
   "source": [
    "array_float1 = np.array([1.1, 2.1, 3.1])\n",
    "array_int2 = array_float1.astype('int32')\n",
    "print(array_int2, \" / \", array_int2.dtype)"
   ]
  },
  {
   "cell_type": "markdown",
   "id": "08998d27",
   "metadata": {},
   "source": [
    "### ndarray를 편리하게 생성하기 - arange, zeors, ones\n"
   ]
  },
  {
   "cell_type": "code",
   "execution_count": 35,
   "id": "3123e0ab",
   "metadata": {},
   "outputs": [
    {
     "name": "stdout",
     "output_type": "stream",
     "text": [
      "[]\n",
      "int32 (0,)\n"
     ]
    }
   ],
   "source": [
    "sequence_array = np.arange(10)\n",
    "print(sequence_array)\n",
    "print(sequence_array.dtype, sequence_array.shape)"
   ]
  }
 ],
 "metadata": {
  "kernelspec": {
   "display_name": "Python 3 (ipykernel)",
   "language": "python",
   "name": "python3"
  },
  "language_info": {
   "codemirror_mode": {
    "name": "ipython",
    "version": 3
   },
   "file_extension": ".py",
   "mimetype": "text/x-python",
   "name": "python",
   "nbconvert_exporter": "python",
   "pygments_lexer": "ipython3",
   "version": "3.9.12"
  }
 },
 "nbformat": 4,
 "nbformat_minor": 5
}

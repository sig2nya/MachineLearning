{
 "cells": [
  {
   "cell_type": "markdown",
   "id": "6caef99e",
   "metadata": {},
   "source": [
    "Numpy ndarray 개요\n",
    "================"
   ]
  },
  {
   "cell_type": "markdown",
   "id": "4a7dad56",
   "metadata": {},
   "source": [
    "###### 1. ndarray : numpy의 N차원 배열 객체\n",
    "###### - Python의 list와 가장 큰 차이점은, 하나의 data type만 넣을 수 있다.\n",
    "###### - C의 array와 동일하다"
   ]
  },
  {
   "cell_type": "code",
   "execution_count": 6,
   "id": "43229680",
   "metadata": {},
   "outputs": [],
   "source": [
    "import numpy as np"
   ]
  },
  {
   "cell_type": "code",
   "execution_count": 16,
   "id": "ff7c280e",
   "metadata": {},
   "outputs": [],
   "source": [
    "a = [1, 2, 3, 4, 5]\n",
    "a_ndarr = np.array(a, int) # a array를 int type으로 선언"
   ]
  },
  {
   "cell_type": "code",
   "execution_count": 4,
   "id": "c5bbbd28",
   "metadata": {},
   "outputs": [
    {
     "name": "stdout",
     "output_type": "stream",
     "text": [
      "list type :  <class 'list'>\n"
     ]
    }
   ],
   "source": [
    "list1 = [1, 2, 3]\n",
    "print('list type : ', type(list1))"
   ]
  },
  {
   "cell_type": "code",
   "execution_count": 9,
   "id": "cde1e8be",
   "metadata": {},
   "outputs": [
    {
     "name": "stdout",
     "output_type": "stream",
     "text": [
      "array1 type :  <class 'numpy.ndarray'>\n",
      "array1 array 형태 :  (3,)\n"
     ]
    }
   ],
   "source": [
    "array1 = np.array(list1)\n",
    "print('array1 type : ', type(array1))\n",
    "print('array1 array 형태 : ', array1.shape)"
   ]
  },
  {
   "cell_type": "code",
   "execution_count": 14,
   "id": "12afd5c1",
   "metadata": {},
   "outputs": [
    {
     "name": "stdout",
     "output_type": "stream",
     "text": [
      "array2 type :  <class 'numpy.ndarray'>\n",
      "array2 array 형태 :  (2, 3)\n"
     ]
    }
   ],
   "source": [
    "array2 = np.array([[1, 2, 3], [2, 3, 4]])\n",
    "print('array2 type : ', type(array2))\n",
    "print('array2 array 형태 : ', array2.shape)"
   ]
  },
  {
   "cell_type": "code",
   "execution_count": 15,
   "id": "b438090d",
   "metadata": {},
   "outputs": [
    {
     "name": "stdout",
     "output_type": "stream",
     "text": [
      "array3 type :  <class 'numpy.ndarray'>\n",
      "array3 array 형태 :  (1, 3)\n"
     ]
    }
   ],
   "source": [
    "array3 = np.array([[1, 2, 3]])\n",
    "print('array3 type : ', type(array3))\n",
    "print('array3 array 형태 : ', array3.shape)"
   ]
  },
  {
   "cell_type": "code",
   "execution_count": 20,
   "id": "979eddcd",
   "metadata": {},
   "outputs": [
    {
     "name": "stdout",
     "output_type": "stream",
     "text": [
      "array1 : 1차원, array2 : 2차원, array3 :  2차원\n"
     ]
    }
   ],
   "source": [
    "print('array1 : {:0}차원, array2 : {:1}차원, array3 : {:2}차원'.format(array1.ndim, array2.ndim, array3.ndim))"
   ]
  },
  {
   "cell_type": "code",
   "execution_count": 17,
   "id": "92a4b288",
   "metadata": {
    "scrolled": true
   },
   "outputs": [
    {
     "name": "stdout",
     "output_type": "stream",
     "text": [
      "(3, 3)\n",
      "int32\n"
     ]
    }
   ],
   "source": [
    "c = [[1, 2, 3],\n",
    "     [4, 5, 6],\n",
    "     [7, 8, 9]]\n",
    "c_ndarr = np.array(c, int)\n",
    "print(c_ndarr.shape)\n",
    "print(c_ndarr.dtype)"
   ]
  },
  {
   "cell_type": "code",
   "execution_count": 19,
   "id": "6871f32d",
   "metadata": {
    "scrolled": false
   },
   "outputs": [
    {
     "name": "stdout",
     "output_type": "stream",
     "text": [
      "(4, 3, 4)\n",
      "3\n",
      "48\n",
      "int8\n"
     ]
    }
   ],
   "source": [
    "d = [[[1, 2, 5, 8], [1, 2, 5, 8], [1, 2, 5, 8]],\n",
    "     [[1, 2, 5, 8], [1, 2, 5, 8], [1, 2, 5, 8]],\n",
    "     [[1, 2, 5, 8], [1, 2, 5, 8], [1, 2, 5, 8]],\n",
    "     [[1, 2, 5, 8], [1, 2, 5, 8], [1, 2, 5, 8]]]\n",
    "\n",
    "d_ndarr = np.array(d, int)\n",
    "print(d_ndarr.shape) #3rd order tensor\n",
    "print(d_ndarr.ndim) #number of dimensions\n",
    "print(d_ndarr.size) # 4 * 3 * 4\n",
    "\n",
    "d_ndarr = np.array(d, dtype=np.int8)\n",
    "print(d_ndarr.dtype) # int8"
   ]
  },
  {
   "cell_type": "markdown",
   "id": "f3bb9420",
   "metadata": {},
   "source": [
    "ndarray의 데이터 타입\n",
    "================="
   ]
  },
  {
   "cell_type": "code",
   "execution_count": 24,
   "id": "9d19ac98",
   "metadata": {},
   "outputs": [
    {
     "name": "stdout",
     "output_type": "stream",
     "text": [
      "<class 'list'>\n",
      "<class 'numpy.ndarray'>\n",
      "[1 2 3] int32\n"
     ]
    }
   ],
   "source": [
    "list1 = [1, 2, 3]\n",
    "print(type(list1))\n",
    "array1 = np.array(list1)\n",
    "print(type(array1))\n",
    "print(array1, array1.dtype)"
   ]
  },
  {
   "cell_type": "code",
   "execution_count": 25,
   "id": "50a54b75",
   "metadata": {},
   "outputs": [
    {
     "name": "stdout",
     "output_type": "stream",
     "text": [
      "['1' '2' 'test']  /  <U11\n"
     ]
    }
   ],
   "source": [
    "list2 = [1, 2, 'test']\n",
    "array2 = np.array(list2)\n",
    "print(array2, \" / \", array2.dtype)"
   ]
  },
  {
   "cell_type": "code",
   "execution_count": 26,
   "id": "826628fb",
   "metadata": {},
   "outputs": [
    {
     "name": "stdout",
     "output_type": "stream",
     "text": [
      "[1. 2. 3.]  /  float64\n"
     ]
    }
   ],
   "source": [
    "list3 = [1, 2, 3.0]\n",
    "array3 = np.array(list3)\n",
    "print(array3, \" / \", array3.dtype)"
   ]
  },
  {
   "cell_type": "code",
   "execution_count": 31,
   "id": "997411d2",
   "metadata": {},
   "outputs": [
    {
     "name": "stdout",
     "output_type": "stream",
     "text": [
      "[1. 2. 3.]  /  float64\n"
     ]
    }
   ],
   "source": [
    "array_int = np.array([1, 2, 3])\n",
    "array_float = array_int.astype('float64')\n",
    "print(array_float, \" / \", array_float.dtype)"
   ]
  },
  {
   "cell_type": "code",
   "execution_count": 32,
   "id": "00d20fa9",
   "metadata": {},
   "outputs": [
    {
     "name": "stdout",
     "output_type": "stream",
     "text": [
      "[1 2 3]  /  int32\n"
     ]
    }
   ],
   "source": [
    "array_int1 = array_float.astype('int32')\n",
    "print(array_int1,  \" / \", array_int1.dtype)"
   ]
  },
  {
   "cell_type": "code",
   "execution_count": 33,
   "id": "710fc383",
   "metadata": {},
   "outputs": [
    {
     "name": "stdout",
     "output_type": "stream",
     "text": [
      "[1 2 3] int32\n"
     ]
    }
   ],
   "source": [
    "array_float1 = np.array([1.1, 2.1, 3.1])\n",
    "array_int2 = array_float1.astype('int32')\n",
    "print(array_int2, \" / \", array_int2.dtype)"
   ]
  },
  {
   "cell_type": "markdown",
   "id": "0f7c0bbf",
   "metadata": {},
   "source": [
    "### ndarray를 편리하게 생성하기 - arange, zeors, ones\n"
   ]
  },
  {
   "cell_type": "code",
   "execution_count": 36,
   "id": "5c8aec4a",
   "metadata": {},
   "outputs": [
    {
     "name": "stdout",
     "output_type": "stream",
     "text": [
      "[0 1 2 3 4 5 6 7 8 9]\n",
      "int32 (10,)\n"
     ]
    }
   ],
   "source": [
    "sequence_array = np.arange(10)\n",
    "print(sequence_array)\n",
    "print(sequence_array.dtype, sequence_array.shape)"
   ]
  },
  {
   "cell_type": "code",
   "execution_count": 38,
   "id": "42c58d03",
   "metadata": {},
   "outputs": [
    {
     "name": "stdout",
     "output_type": "stream",
     "text": [
      "[[0 0]\n",
      " [0 0]\n",
      " [0 0]]\n",
      "int32 (3, 2)\n"
     ]
    }
   ],
   "source": [
    "zero_array = np.zeros((3, 2), dtype = 'int32')\n",
    "print(zero_array)\n",
    "print(zero_array.dtype, zero_array.shape)"
   ]
  },
  {
   "cell_type": "code",
   "execution_count": 41,
   "id": "a1295549",
   "metadata": {},
   "outputs": [
    {
     "name": "stdout",
     "output_type": "stream",
     "text": [
      "[[1. 1.]\n",
      " [1. 1.]\n",
      " [1. 1.]]\n",
      "float64 (3, 2)\n"
     ]
    }
   ],
   "source": [
    "one_array = np.ones((3, 2))\n",
    "print(one_array)\n",
    "print(one_array.dtype, one_array.shape)"
   ]
  },
  {
   "cell_type": "markdown",
   "id": "9f32c68b",
   "metadata": {},
   "source": [
    "### ndarray의 차원과 크기를 변경하는 reshape"
   ]
  },
  {
   "cell_type": "code",
   "execution_count": 42,
   "id": "5f8a1a64",
   "metadata": {},
   "outputs": [
    {
     "name": "stdout",
     "output_type": "stream",
     "text": [
      "array1 : \n",
      " [0 1 2 3 4 5 6 7 8 9]\n"
     ]
    }
   ],
   "source": [
    "array1 = np.arange(10)\n",
    "print('array1 : \\n', array1)"
   ]
  },
  {
   "cell_type": "code",
   "execution_count": 43,
   "id": "e62f7de9",
   "metadata": {},
   "outputs": [
    {
     "name": "stdout",
     "output_type": "stream",
     "text": [
      "array2 : \n",
      " [[0 1 2 3 4]\n",
      " [5 6 7 8 9]]\n"
     ]
    }
   ],
   "source": [
    "array2 = array1.reshape(2, 5)\n",
    "print('array2 : \\n', array2) # 2차원 행렬로 변경"
   ]
  },
  {
   "cell_type": "code",
   "execution_count": 44,
   "id": "156a5b68",
   "metadata": {},
   "outputs": [
    {
     "name": "stdout",
     "output_type": "stream",
     "text": [
      "array3 : \n",
      " [[0 1]\n",
      " [2 3]\n",
      " [4 5]\n",
      " [6 7]\n",
      " [8 9]]\n"
     ]
    }
   ],
   "source": [
    "array3 = array1.reshape(5, 2)\n",
    "print('array3 : \\n', array3)"
   ]
  },
  {
   "cell_type": "code",
   "execution_count": 45,
   "id": "0dfb82a2",
   "metadata": {},
   "outputs": [
    {
     "ename": "ValueError",
     "evalue": "cannot reshape array of size 10 into shape (4,3)",
     "output_type": "error",
     "traceback": [
      "\u001b[1;31m---------------------------------------------------------------------------\u001b[0m",
      "\u001b[1;31mValueError\u001b[0m                                Traceback (most recent call last)",
      "Input \u001b[1;32mIn [45]\u001b[0m, in \u001b[0;36m<cell line: 1>\u001b[1;34m()\u001b[0m\n\u001b[1;32m----> 1\u001b[0m \u001b[43marray1\u001b[49m\u001b[38;5;241;43m.\u001b[39;49m\u001b[43mreshape\u001b[49m\u001b[43m(\u001b[49m\u001b[38;5;241;43m4\u001b[39;49m\u001b[43m,\u001b[49m\u001b[43m \u001b[49m\u001b[38;5;241;43m3\u001b[39;49m\u001b[43m)\u001b[49m\n",
      "\u001b[1;31mValueError\u001b[0m: cannot reshape array of size 10 into shape (4,3)"
     ]
    }
   ],
   "source": [
    "array1.reshape(4, 3)\n",
    "#불가능. 변환전 사이즈와 변환 후 사이즈가 같아야하는듯..."
   ]
  },
  {
   "cell_type": "code",
   "execution_count": 49,
   "id": "473ea7a4",
   "metadata": {},
   "outputs": [
    {
     "name": "stdout",
     "output_type": "stream",
     "text": [
      "[0 1 2 3 4 5 6 7 8 9]\n",
      "array2 is : \n",
      " [[0 1 2 3 4]\n",
      " [5 6 7 8 9]]\n",
      "array2 shape :  (2, 5)\n",
      "array3 is : \n",
      " [[0 1]\n",
      " [2 3]\n",
      " [4 5]\n",
      " [6 7]\n",
      " [8 9]]\n",
      "array3 shape :  (5, 2)\n"
     ]
    }
   ],
   "source": [
    "array1 = np.arange(10)\n",
    "print(array1)\n",
    "\n",
    "array2 = array1.reshape(-1, 5)\n",
    "# -1  arg는 남은 배열의 길이와 남은 차원으로부터 알아서 지정하는 것을 의미\n",
    "print('array2 is : \\n', array2)\n",
    "print('array2 shape : ', array2.shape)\n",
    "\n",
    "array3 = array1.reshape(5, -1)\n",
    "print('array3 is : \\n', array3)\n",
    "print('array3 shape : ', array3.shape)"
   ]
  },
  {
   "cell_type": "code",
   "execution_count": 50,
   "id": "b20c3df9",
   "metadata": {},
   "outputs": [
    {
     "ename": "ValueError",
     "evalue": "cannot reshape array of size 10 into shape (4)",
     "output_type": "error",
     "traceback": [
      "\u001b[1;31m---------------------------------------------------------------------------\u001b[0m",
      "\u001b[1;31mValueError\u001b[0m                                Traceback (most recent call last)",
      "Input \u001b[1;32mIn [50]\u001b[0m, in \u001b[0;36m<cell line: 1>\u001b[1;34m()\u001b[0m\n\u001b[1;32m----> 1\u001b[0m array4 \u001b[38;5;241m=\u001b[39m \u001b[43marray1\u001b[49m\u001b[38;5;241;43m.\u001b[39;49m\u001b[43mreshape\u001b[49m\u001b[43m(\u001b[49m\u001b[38;5;241;43m-\u001b[39;49m\u001b[38;5;241;43m1\u001b[39;49m\u001b[43m,\u001b[49m\u001b[43m \u001b[49m\u001b[38;5;241;43m4\u001b[39;49m\u001b[43m)\u001b[49m\n",
      "\u001b[1;31mValueError\u001b[0m: cannot reshape array of size 10 into shape (4)"
     ]
    }
   ],
   "source": [
    "array4 = array1.reshape(-1, 4)"
   ]
  },
  {
   "cell_type": "code",
   "execution_count": 53,
   "id": "c61d491d",
   "metadata": {},
   "outputs": [
    {
     "name": "stdout",
     "output_type": "stream",
     "text": [
      "array3d : \n",
      " [[[0, 1], [2, 3]], [[4, 5], [6, 7]]]\n"
     ]
    }
   ],
   "source": [
    "array1 = np.arange(8)\n",
    "array3d = array1.reshape((2, 2, 2))\n",
    "print('array3d : \\n', array3d.tolist())"
   ]
  },
  {
   "cell_type": "code",
   "execution_count": 54,
   "id": "70fa385a",
   "metadata": {},
   "outputs": [
    {
     "name": "stdout",
     "output_type": "stream",
     "text": [
      "array5 : \n",
      " [[0], [1], [2], [3], [4], [5], [6], [7]]\n",
      "array5 shape :  (8, 1)\n"
     ]
    }
   ],
   "source": [
    "array5 = array3d.reshape(-1, 1)\n",
    "print('array5 : \\n', array5.tolist())\n",
    "print('array5 shape : ', array5.shape)"
   ]
  },
  {
   "cell_type": "code",
   "execution_count": 55,
   "id": "4a8e282d",
   "metadata": {},
   "outputs": [
    {
     "name": "stdout",
     "output_type": "stream",
     "text": [
      "array6 : \n",
      " [[0], [1], [2], [3], [4], [5], [6], [7]]\n",
      "array6 shape :  (8, 1)\n"
     ]
    }
   ],
   "source": [
    "array6 = array1.reshape(-1, 1)\n",
    "print('array6 : \\n', array6.tolist())\n",
    "print('array6 shape : ', array6.shape)"
   ]
  },
  {
   "cell_type": "code",
   "execution_count": 56,
   "id": "edcd3742",
   "metadata": {},
   "outputs": [
    {
     "name": "stdout",
     "output_type": "stream",
     "text": [
      "[0 1 2 3 4 5 6 7]\n"
     ]
    }
   ],
   "source": [
    "array1d = array3d.reshape(-1,)\n",
    "print(array1d)"
   ]
  },
  {
   "cell_type": "markdown",
   "id": "8138bc33",
   "metadata": {},
   "source": [
    "### 선형대수 연산 - inner product / transpose matrix 구하기"
   ]
  },
  {
   "cell_type": "markdown",
   "id": "f4cae0a7",
   "metadata": {},
   "source": [
    "* 행렬내적"
   ]
  },
  {
   "cell_type": "code",
   "execution_count": 57,
   "id": "01fa6972",
   "metadata": {},
   "outputs": [
    {
     "name": "stdout",
     "output_type": "stream",
     "text": [
      "inner product result : \n",
      " [[ 58  64]\n",
      " [139 154]]\n"
     ]
    }
   ],
   "source": [
    "A = np.array([[1, 2, 3],\n",
    "             [4, 5, 6]\n",
    "             ])\n",
    "B = np.array([[7, 8],\n",
    "             [9, 10],\n",
    "             [11, 12]\n",
    "             ])\n",
    "dot_product = np.dot(A, B)\n",
    "print('inner product result : \\n', dot_product)"
   ]
  },
  {
   "cell_type": "markdown",
   "id": "f99117da",
   "metadata": {},
   "source": [
    "* 전치 행렬"
   ]
  },
  {
   "cell_type": "code",
   "execution_count": 65,
   "id": "7c1d870b",
   "metadata": {},
   "outputs": [
    {
     "name": "stdout",
     "output_type": "stream",
     "text": [
      "A의 전치 행렬 : \n",
      " [[1 3]\n",
      " [2 4]]\n"
     ]
    }
   ],
   "source": [
    "A = np.array([[1, 2],\n",
    "             [3, 4]\n",
    "             ])\n",
    "transpose_matrix = np.transpose(A)\n",
    "print('A의 전치 행렬 : \\n', transpose_matrix)"
   ]
  }
 ],
 "metadata": {
  "kernelspec": {
   "display_name": "Python 3 (ipykernel)",
   "language": "python",
   "name": "python3"
  },
  "language_info": {
   "codemirror_mode": {
    "name": "ipython",
    "version": 3
   },
   "file_extension": ".py",
   "mimetype": "text/x-python",
   "name": "python",
   "nbconvert_exporter": "python",
   "pygments_lexer": "ipython3",
   "version": "3.9.12"
  }
 },
 "nbformat": 4,
 "nbformat_minor": 5
}

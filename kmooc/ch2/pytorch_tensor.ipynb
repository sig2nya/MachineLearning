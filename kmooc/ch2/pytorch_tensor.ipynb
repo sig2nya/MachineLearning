{
  "cells": [
    {
      "cell_type": "markdown",
      "metadata": {
        "id": "view-in-github",
        "colab_type": "text"
      },
      "source": [
        "<a href=\"https://colab.research.google.com/github/sig2nya/MachineLearning/blob/main/kmooc/ch2/pytorch_tensor.ipynb\" target=\"_parent\"><img src=\"https://colab.research.google.com/assets/colab-badge.svg\" alt=\"Open In Colab\"/></a>"
      ]
    },
    {
      "cell_type": "markdown",
      "id": "9d623274",
      "metadata": {
        "id": "9d623274"
      },
      "source": [
        "Tensor\n",
        "======\n",
        "- 다차원 배열을 처리하기 위한 데이터 구조\n",
        "- GPU를 사용하지 못하는 numpy의 문제 해결\n",
        "- numpy와 같이 nd-array 연산 지원\n",
        "- 3D 이상의 array는 tensor이다\n",
        "- jupyter notebook에서 torch 환경을 구성하기 위해서는 추가 작업을 해주어야 한다. 구글링 해보자."
      ]
    },
    {
      "cell_type": "code",
      "execution_count": 21,
      "id": "1f7b028e",
      "metadata": {
        "id": "1f7b028e"
      },
      "outputs": [],
      "source": [
        "import torch"
      ]
    },
    {
      "cell_type": "code",
      "execution_count": 22,
      "id": "690997dd",
      "metadata": {
        "colab": {
          "base_uri": "https://localhost:8080/"
        },
        "id": "690997dd",
        "outputId": "be310bc1-00a8-43bf-f916-b3b0b37abeb1"
      },
      "outputs": [
        {
          "output_type": "execute_result",
          "data": {
            "text/plain": [
              "True"
            ]
          },
          "metadata": {},
          "execution_count": 22
        }
      ],
      "source": [
        "torch.cuda.is_available() \n",
        "# cuda는 Compute Unified Device Architecture의 약어이다. torch.cuda.is_available() 함수를 호출하면 GPU 사용 여부를 확인할 수 있다."
      ]
    },
    {
      "cell_type": "code",
      "execution_count": 23,
      "id": "325dd0f8",
      "metadata": {
        "id": "325dd0f8"
      },
      "outputs": [],
      "source": [
        "data = [[1, 2], [3, 4]]\n",
        "t = torch.tensor(data)\n",
        "# list인 data를 tensor type으로 변환"
      ]
    },
    {
      "cell_type": "code",
      "execution_count": 24,
      "id": "a79a7ce1",
      "metadata": {
        "colab": {
          "base_uri": "https://localhost:8080/"
        },
        "id": "a79a7ce1",
        "outputId": "f0f913d9-14bd-483e-efa8-566d40402a7d"
      },
      "outputs": [
        {
          "output_type": "stream",
          "name": "stdout",
          "text": [
            "tensor([[1, 2],\n",
            "        [3, 4]]) torch.int64 torch.Size([2, 2])\n"
          ]
        }
      ],
      "source": [
        "print(t, t.dtype, t.shape)\n",
        "# t의 type tensor, data type - int, Size 확인"
      ]
    },
    {
      "cell_type": "code",
      "execution_count": 25,
      "id": "a7500b06",
      "metadata": {
        "colab": {
          "base_uri": "https://localhost:8080/"
        },
        "id": "a7500b06",
        "outputId": "c039c494-9c63-422e-aefe-6a06a3219c2a"
      },
      "outputs": [
        {
          "output_type": "stream",
          "name": "stdout",
          "text": [
            "tensor([[1, 2],\n",
            "        [3, 4]]) torch.int64 torch.Size([2, 2])\n"
          ]
        }
      ],
      "source": [
        "t = torch.tensor([[1, 2], [3, 4]])\n",
        "print(t, t.dtype, t.shape)\n",
        "# 마찬가지로 변수를 통해 tensor를 생성하는 것이 아닌 직접 list를 argument로 전달함으로써 tensor를 생성"
      ]
    },
    {
      "cell_type": "code",
      "execution_count": 26,
      "id": "247b7642",
      "metadata": {
        "id": "247b7642"
      },
      "outputs": [],
      "source": [
        "t_cpu = torch.tensor([[1, 2], [3, 4]], device='cpu')\n",
        "t_gpu = torch.tensor([[1, 2], [3, 4]], device='cuda:0')\n",
        "# t_cpu는 cpu에 tensor를 생성하며 마찬가지로 t_gpu는 gpu에 tensor를 생성"
      ]
    },
    {
      "cell_type": "code",
      "execution_count": 27,
      "id": "959da944",
      "metadata": {
        "colab": {
          "base_uri": "https://localhost:8080/"
        },
        "id": "959da944",
        "outputId": "8fe2a3f7-0552-4301-ba4f-7d762aa4707d"
      },
      "outputs": [
        {
          "output_type": "stream",
          "name": "stdout",
          "text": [
            "tensor([[1, 2],\n",
            "        [3, 4]])\n",
            "tensor([[1., 2.],\n",
            "        [3., 4.]], dtype=torch.float64)\n"
          ]
        }
      ],
      "source": [
        "t_32 = torch.tensor([[1, 2], [3, 4]])\n",
        "t_64 = torch.tensor([[1, 2], [3, 4]], dtype = torch.float64)\n",
        "print(t_32)\n",
        "print(t_64)\n",
        "# data type을 지정하여 tensor를 생성합니다."
      ]
    },
    {
      "cell_type": "code",
      "execution_count": 28,
      "id": "0b0d199a",
      "metadata": {
        "colab": {
          "base_uri": "https://localhost:8080/"
        },
        "id": "0b0d199a",
        "outputId": "88072409-34a2-4274-efb8-1a336ec36874"
      },
      "outputs": [
        {
          "output_type": "stream",
          "name": "stdout",
          "text": [
            "tensor([0, 1, 2, 3, 4, 5, 6, 7, 8, 9])\n"
          ]
        }
      ],
      "source": [
        "t = torch.arange(0, 10) # 0 ~ 9까지의 수열을 tensor로 생성합니다\n",
        "print(t)"
      ]
    },
    {
      "cell_type": "code",
      "execution_count": 29,
      "id": "61669dfc",
      "metadata": {
        "colab": {
          "base_uri": "https://localhost:8080/"
        },
        "id": "61669dfc",
        "outputId": "9e117496-1b59-4fce-c659-b23be2e2523f"
      },
      "outputs": [
        {
          "output_type": "stream",
          "name": "stdout",
          "text": [
            "tensor([[0., 0.],\n",
            "        [0., 0.],\n",
            "        [0., 0.]]) torch.Size([3, 2])\n"
          ]
        }
      ],
      "source": [
        "t = torch.zeros(3, 2) # tensor의 모든 요소를 0으로 초기화 하고 싶을 때 torch.zeros 함수를 사용합니다\n",
        "print(t, t.shape)"
      ]
    },
    {
      "cell_type": "code",
      "execution_count": 30,
      "id": "5119e192",
      "metadata": {
        "colab": {
          "base_uri": "https://localhost:8080/"
        },
        "id": "5119e192",
        "outputId": "98627117-c0a4-4bc5-ec4c-3a0057d33833"
      },
      "outputs": [
        {
          "output_type": "stream",
          "name": "stdout",
          "text": [
            "tensor([[1., 1.],\n",
            "        [1., 1.],\n",
            "        [1., 1.]]) torch.Size([3, 2])\n"
          ]
        }
      ],
      "source": [
        "t = torch.ones(3, 2) # tensor의 모든 요소를 1로 초기화 하고 싶을 때 torch.ones 함수를 사용합니다\n",
        "print(t, t.shape)"
      ]
    },
    {
      "cell_type": "code",
      "execution_count": 31,
      "id": "02805302",
      "metadata": {
        "colab": {
          "base_uri": "https://localhost:8080/"
        },
        "id": "02805302",
        "outputId": "ddf9e2ac-032e-45fe-aebc-268ea9d97d29"
      },
      "outputs": [
        {
          "output_type": "stream",
          "name": "stdout",
          "text": [
            "tensor([[1., 1.],\n",
            "        [1., 1.],\n",
            "        [1., 1.]], device='cuda:0')\n"
          ]
        }
      ],
      "source": [
        "t = t.to('cuda') # torch.Tensor.to 함수는 dtype이나 device를 변경할 때 사용합니다. 여기서, arg 값이 'cuda'이므로 device를 cuda로 변경한다는 뜻이고 GPU를 사용하겠다는 의미가 되겠습니다\n",
        "print(t)"
      ]
    },
    {
      "cell_type": "code",
      "execution_count": 32,
      "id": "7a6b851c",
      "metadata": {
        "colab": {
          "base_uri": "https://localhost:8080/"
        },
        "id": "7a6b851c",
        "outputId": "a47e6062-ee7c-43ec-e14c-730cfa1779b1"
      },
      "outputs": [
        {
          "output_type": "stream",
          "name": "stdout",
          "text": [
            "tensor([[ 0.8679, -0.7035],\n",
            "        [ 0.3697, -1.5165],\n",
            "        [ 0.5381, -1.3826]])\n"
          ]
        }
      ],
      "source": [
        "t = torch.randn(3, 2) # 평균이 0이고 표준편차가 1인 Gaussian 정규 분포를 사용하여 난수를 생성합니다\n",
        "print(t)"
      ]
    },
    {
      "cell_type": "code",
      "execution_count": 33,
      "id": "17d5b4ee",
      "metadata": {
        "colab": {
          "base_uri": "https://localhost:8080/"
        },
        "id": "17d5b4ee",
        "outputId": "37939e06-2298-41d9-9b07-aace3d985db1"
      },
      "outputs": [
        {
          "output_type": "stream",
          "name": "stdout",
          "text": [
            "[[0.8678854703903198, -0.7034857869148254], [0.3696555495262146, -1.5164830684661865], [0.538088858127594, -1.3825727701187134]]\n"
          ]
        }
      ],
      "source": [
        "t_data = t.data.tolist() # t에 존재하는 데이터를 list로 변환합니다.\n",
        "print(t_data)"
      ]
    },
    {
      "cell_type": "code",
      "execution_count": 34,
      "id": "d6c0435b",
      "metadata": {
        "id": "d6c0435b"
      },
      "outputs": [],
      "source": [
        "t = torch.rand(2, 3) # 0 ~ 1 사이의 수를 생성합니다\n",
        "cpu = torch.device('cpu')\n",
        "gpu = torch.device('cuda')"
      ]
    },
    {
      "cell_type": "code",
      "execution_count": 35,
      "id": "c1b61780",
      "metadata": {
        "colab": {
          "base_uri": "https://localhost:8080/"
        },
        "id": "c1b61780",
        "outputId": "5263474f-5496-4172-9257-1f1e103f2be5"
      },
      "outputs": [
        {
          "output_type": "stream",
          "name": "stdout",
          "text": [
            "cuda is available\n"
          ]
        }
      ],
      "source": [
        "if torch.cuda.is_available():\n",
        "    t_gpu = t.to(gpu)\n",
        "    print('cuda is available') # 현재 GPU를 사용할 수 있는 상태이므로, 출력됩니다."
      ]
    },
    {
      "cell_type": "code",
      "execution_count": 36,
      "id": "e80a7969",
      "metadata": {
        "colab": {
          "base_uri": "https://localhost:8080/"
        },
        "id": "e80a7969",
        "outputId": "9e972952-e58d-4447-976e-c61acf0607fc"
      },
      "outputs": [
        {
          "output_type": "stream",
          "name": "stdout",
          "text": [
            "tensor([[1, 2],\n",
            "        [3, 4]])\n"
          ]
        }
      ],
      "source": [
        "t_gpu = t_gpu.to(cpu) # t_gpu를 cpu를 사용하여 연산합니다\n",
        "print(t_cpu)"
      ]
    },
    {
      "cell_type": "code",
      "execution_count": 37,
      "id": "3375f72e",
      "metadata": {
        "colab": {
          "base_uri": "https://localhost:8080/"
        },
        "id": "3375f72e",
        "outputId": "4989ad1d-1256-489b-fbbb-260b633e6ea5"
      },
      "outputs": [
        {
          "output_type": "stream",
          "name": "stdout",
          "text": [
            "tensor([[1., 1.],\n",
            "        [1., 1.],\n",
            "        [1., 1.]], device='cuda:0')\n"
          ]
        }
      ],
      "source": [
        "t = torch.ones(3, 2) # 마찬가지로 3 * 2행의 tensor를 1로 초기화 수행합니다\n",
        "t = t.to('cuda')\n",
        "print(t)"
      ]
    },
    {
      "cell_type": "code",
      "execution_count": 38,
      "id": "b258c3e8",
      "metadata": {
        "colab": {
          "base_uri": "https://localhost:8080/"
        },
        "id": "b258c3e8",
        "outputId": "b3df4e4c-24ec-4565-be7c-555e4e75fd01"
      },
      "outputs": [
        {
          "output_type": "stream",
          "name": "stdout",
          "text": [
            "tensor([[0.5555, 0.8419, 0.4961],\n",
            "        [0.2826, 0.8133, 0.6046]])\n",
            "tensor([[1., 1., 1.],\n",
            "        [1., 1., 1.]]) tensor([[0., 0., 0.],\n",
            "        [0., 0., 0.]])\n"
          ]
        }
      ],
      "source": [
        "t = torch.rand(2, 3)\n",
        "print(t)\n",
        "t_ones = torch.ones_like(t) # 입력한 tensor와 동일 tensor를 생성하는데, 1로 초기화 합니다\n",
        "t_zeros = torch.zeros_like(t) # 마찬가지로 입력한 tensor와 동일 tensor를 생성하는데, 0으로 초기화 합니다다\n",
        "print(t_ones, t_zeros)"
      ]
    },
    {
      "cell_type": "code",
      "execution_count": 39,
      "id": "396f7b21",
      "metadata": {
        "id": "396f7b21"
      },
      "outputs": [],
      "source": [
        "t = torch.tensor(data)"
      ]
    },
    {
      "cell_type": "code",
      "execution_count": 40,
      "id": "e06869aa",
      "metadata": {
        "colab": {
          "base_uri": "https://localhost:8080/"
        },
        "id": "e06869aa",
        "outputId": "6f5ee9c9-a20a-4be5-b600-48c899d60567"
      },
      "outputs": [
        {
          "output_type": "stream",
          "name": "stdout",
          "text": [
            "tensor([[1., 2., 3.],\n",
            "        [4., 5., 6.]])\n",
            "tensor([[1., 2., 3.],\n",
            "        [4., 5., 6.]])\n"
          ]
        }
      ],
      "source": [
        "t_T = torch.Tensor([[1, 2, 3], [4, 5, 6]])\n",
        "t_FT = torch.FloatTensor([[1, 2, 3], [4, 5, 6]])\n",
        "print(t_T)\n",
        "print(t_FT)"
      ]
    },
    {
      "cell_type": "code",
      "execution_count": 41,
      "id": "5ed84136",
      "metadata": {
        "colab": {
          "base_uri": "https://localhost:8080/"
        },
        "id": "5ed84136",
        "outputId": "2919f359-b756-4111-a1a6-307abb5765f4"
      },
      "outputs": [
        {
          "output_type": "stream",
          "name": "stdout",
          "text": [
            "tensor([[1, 2, 3],\n",
            "        [4, 5, 6]], dtype=torch.int32)\n"
          ]
        }
      ],
      "source": [
        "t_T = t_T.type(dtype=torch.IntTensor)\n",
        "print(t_T)"
      ]
    }
  ],
  "metadata": {
    "kernelspec": {
      "display_name": "Python 3 (ipykernel)",
      "language": "python",
      "name": "python3"
    },
    "language_info": {
      "codemirror_mode": {
        "name": "ipython",
        "version": 3
      },
      "file_extension": ".py",
      "mimetype": "text/x-python",
      "name": "python",
      "nbconvert_exporter": "python",
      "pygments_lexer": "ipython3",
      "version": "3.9.13"
    },
    "colab": {
      "provenance": [],
      "include_colab_link": true
    },
    "accelerator": "GPU",
    "gpuClass": "standard"
  },
  "nbformat": 4,
  "nbformat_minor": 5
}
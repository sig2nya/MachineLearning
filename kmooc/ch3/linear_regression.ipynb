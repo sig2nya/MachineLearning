{
  "nbformat": 4,
  "nbformat_minor": 0,
  "metadata": {
    "colab": {
      "provenance": [],
      "authorship_tag": "ABX9TyMUZqKhwL9QFi/9IEKPgwSL"
    },
    "kernelspec": {
      "name": "python3",
      "display_name": "Python 3"
    },
    "language_info": {
      "name": "python"
    }
  },
  "cells": [
    {
      "cell_type": "code",
      "execution_count": null,
      "metadata": {
        "id": "DlfYxkFzUDj4"
      },
      "outputs": [],
      "source": [
        "import numpy as np\n",
        "import matplotlib.pyplot as plt\n",
        "%matplotlib inline"
      ]
    },
    {
      "cell_type": "code",
      "source": [
        "lr = 0.01\n",
        "n_iter = 100"
      ],
      "metadata": {
        "id": "MzNrxOjxXAXV"
      },
      "execution_count": null,
      "outputs": []
    },
    {
      "cell_type": "code",
      "source": [
        "# for training\n",
        "x_train = np.array([[1], [2], [3]]) # x axis\n",
        "y_train = np.array([[2], [4], [6]]) # y axis"
      ],
      "metadata": {
        "id": "csTMzjTYXNOi"
      },
      "execution_count": null,
      "outputs": []
    },
    {
      "cell_type": "code",
      "source": [
        "x_train_b = np.c_[np.ones((len(x_train), 1)), x_train]\n",
        "theta = np.random.randn(2, 1) # 최종적으로 구하고 싶은 값"
      ],
      "metadata": {
        "id": "IANJbYEQXZZi"
      },
      "execution_count": null,
      "outputs": []
    },
    {
      "cell_type": "code",
      "source": [
        "plt.scatter(x_train, y_train)\n",
        "plt.xlabel('x_train')\n",
        "plt.ylabel('y_train')\n",
        "plt.grid(True)\n",
        "plt.show"
      ],
      "metadata": {
        "colab": {
          "base_uri": "https://localhost:8080/",
          "height": 299
        },
        "id": "UFVf3mzeYCKO",
        "outputId": "9b212785-b4a9-4ca1-d196-f9a9419bdd82"
      },
      "execution_count": null,
      "outputs": [
        {
          "output_type": "execute_result",
          "data": {
            "text/plain": [
              "<function matplotlib.pyplot.show(*args, **kw)>"
            ]
          },
          "metadata": {},
          "execution_count": 62
        },
        {
          "output_type": "display_data",
          "data": {
            "text/plain": [
              "<Figure size 432x288 with 1 Axes>"
            ],
            "image/png": "[encoded data removed]"
          },
          "metadata": {
            "needs_background": "light"
          }
        }
      ]
    },
    {
      "cell_type": "code",
      "source": [
        "def cal_cost(theta, x, y):\n",
        "  m = len(y)\n",
        "  pred = x.dot(theta)\n",
        "  cost = 1 / (2 * m) * np.sum(np.square(pred - y))\n",
        "  return cost"
      ],
      "metadata": {
        "id": "1xPChNciYOlM"
      },
      "execution_count": null,
      "outputs": []
    },
    {
      "cell_type": "code",
      "source": [
        "def gradient_descent(x, y, theta, lr = 0.01, n_iter = 100): # 목적함수의 gradient\n",
        "  m = len(y)\n",
        "  cost_history = np.zeros(n_iter)\n",
        "  theta_history = np.zeros((n_iter, 2))\n",
        "  for iter in range(n_iter):\n",
        "    pred = np.dot(x, theta)\n",
        "    theta = theta - (1 / m) * lr * (x.T.dot(pred - y)) # 경사 하강. 이 함수의 핵심 부분. \n",
        "    cost_history[iter] = cal_cost(theta, x, y)\n",
        "    theta_history[iter, :] = theta.T\n",
        "  return theta, cost_history, theta_history"
      ],
      "metadata": {
        "id": "xthf1loVYkJN"
      },
      "execution_count": null,
      "outputs": []
    },
    {
      "cell_type": "code",
      "source": [
        "theta, cost_history, theta_history = gradient_descent(x_train_b, y_train, theta, lr, n_iter)\n",
        "print('b:{}'.format(theta[0, 0]))\n",
        "print('w:{}'.format(theta[1, 0]))"
      ],
      "metadata": {
        "colab": {
          "base_uri": "https://localhost:8080/"
        },
        "id": "l7w7xilxZ3a8",
        "outputId": "af28eeba-59f8-495b-c508-4a76e6b52836"
      },
      "execution_count": null,
      "outputs": [
        {
          "output_type": "stream",
          "name": "stdout",
          "text": [
            "b:0.852090820759004\n",
            "w:1.6251637854689438\n"
          ]
        }
      ]
    },
    {
      "cell_type": "code",
      "source": [
        "plt.scatter(x_train, y_train)\n",
        "plt.plot(x_train, theta[1, 0] * x_train + theta[0, 0], 'r--')\n",
        "plt.xlabel('x')\n",
        "plt.ylabel('y')\n",
        "plt.grid(True)\n",
        "plt.show()\n",
        "\n",
        "plt.plot(cost_history, 'k--', label='cost')\n",
        "plt.plot(theta_history[:, 0], 'r--', label='b')\n",
        "plt.plot(theta_history[:, 1], 'b--', label='w')\n",
        "plt.legend()\n",
        "plt.xlabel('iteration')\n",
        "plt.ylabel('cost')\n",
        "plt.grid(True)\n",
        "plt.show()\n"
      ],
      "metadata": {
        "colab": {
          "base_uri": "https://localhost:8080/",
          "height": 541
        },
        "id": "9cWfDDquao9U",
        "outputId": "9339d796-ebce-456f-bd95-58dc74cce83c"
      },
      "execution_count": null,
      "outputs": [
        {
          "output_type": "display_data",
          "data": {
            "text/plain": [
              "<Figure size 432x288 with 1 Axes>"
            ],
            "image/png": "[encoded data removed]"
          },
          "metadata": {
            "needs_background": "light"
          }
        },
        {
          "output_type": "display_data",
          "data": {
            "text/plain": [
              "<Figure size 432x288 with 1 Axes>"
            ],
            "image/png": "[encoded data removed]"
          },
          "metadata": {
            "needs_background": "light"
          }
        }
      ]
    }
  ]
}

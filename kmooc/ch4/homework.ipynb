{
  "nbformat": 4,
  "nbformat_minor": 0,
  "metadata": {
    "colab": {
      "provenance": [],
      "toc_visible": true,
      "authorship_tag": "ABX9TyPzmvtFiMSbcntU+BokILEv",
      "include_colab_link": true
    },
    "kernelspec": {
      "name": "python3",
      "display_name": "Python 3"
    },
    "language_info": {
      "name": "python"
    }
  },
  "cells": [
    {
      "cell_type": "markdown",
      "metadata": {
        "id": "view-in-github",
        "colab_type": "text"
      },
      "source": [
        "<a href=\"https://colab.research.google.com/github/sig2nya/MachineLearning/blob/main/kmooc/ch4/homework.ipynb\" target=\"_parent\"><img src=\"https://colab.research.google.com/assets/colab-badge.svg\" alt=\"Open In Colab\"/></a>"
      ]
    },
    {
      "cell_type": "code",
      "execution_count": 59,
      "metadata": {
        "id": "qZpIl2HpHBmF",
        "colab": {
          "base_uri": "https://localhost:8080/"
        },
        "outputId": "815ae6d3-afb2-4427-ddf8-756acb0d17a0"
      },
      "outputs": [
        {
          "output_type": "stream",
          "name": "stdout",
          "text": [
            "Drive already mounted at /content/drive; to attempt to forcibly remount, call drive.mount(\"/content/drive\", force_remount=True).\n"
          ]
        }
      ],
      "source": [
        "import torch\n",
        "import numpy as np\n",
        "import torch.nn as nn\n",
        "import torch.nn.functional as F\n",
        "from torch.utils.data import Dataset\n",
        "from torch.utils.data import DataLoader\n",
        "from google.colab import drive\n",
        "drive.mount('/content/drive')\n",
        "import pandas as pd\n",
        "import csv"
      ]
    },
    {
      "cell_type": "code",
      "source": [
        "class WineDataSet(Dataset):\n",
        "  def __init__(self, wine_data):\n",
        "    self.x_data = wine_data[:, :11]\n",
        "    self.y_data = wine_data[:, 11]\n",
        "  \n",
        "  def __getitem__(self, idx):\n",
        "    return self.x_data[idx], self.y_data[idx]\n",
        "  \n",
        "  def __len__(self):\n",
        "    return len(self.x_data)"
      ],
      "metadata": {
        "id": "6f3zgvkfH9lL"
      },
      "execution_count": 87,
      "outputs": []
    },
    {
      "cell_type": "code",
      "source": [
        "def csv_read(path):\n",
        "  data = []\n",
        "  with open(path) as f:\n",
        "    reader = csv.reader(f)\n",
        "    _ = next(reader)\n",
        "    for idx, row in enumerate(reader):\n",
        "      data.append(row)\n",
        "    return np.array(data, dtype = float)\n",
        "\n",
        "wine_data = csv_read('/content/drive/MyDrive/kmooc/AI/ch4/winequality-red-rev.csv')\n",
        "print(wine_data)\n",
        "print(wine_data[:, :11])\n",
        "print(wine_data[:, 11])\n"
      ],
      "metadata": {
        "colab": {
          "base_uri": "https://localhost:8080/"
        },
        "id": "j372KWDWM3DZ",
        "outputId": "c2cacfb1-54aa-4528-db8c-6cbbb5139cae"
      },
      "execution_count": 82,
      "outputs": [
        {
          "output_type": "stream",
          "name": "stdout",
          "text": [
            "[[ 7.4    0.7    0.    ...  0.56   9.4    5.   ]\n",
            " [ 7.8    0.88   0.    ...  0.68   9.8    5.   ]\n",
            " [ 7.8    0.76   0.04  ...  0.65   9.8    5.   ]\n",
            " ...\n",
            " [ 6.3    0.51   0.13  ...  0.75  11.     6.   ]\n",
            " [ 5.9    0.645  0.12  ...  0.71  10.2    5.   ]\n",
            " [ 6.     0.31   0.47  ...  0.66  11.     6.   ]]\n",
            "[[ 7.4    0.7    0.    ...  3.51   0.56   9.4  ]\n",
            " [ 7.8    0.88   0.    ...  3.2    0.68   9.8  ]\n",
            " [ 7.8    0.76   0.04  ...  3.26   0.65   9.8  ]\n",
            " ...\n",
            " [ 6.3    0.51   0.13  ...  3.42   0.75  11.   ]\n",
            " [ 5.9    0.645  0.12  ...  3.57   0.71  10.2  ]\n",
            " [ 6.     0.31   0.47  ...  3.39   0.66  11.   ]]\n",
            "[5. 5. 5. ... 6. 5. 6.]\n"
          ]
        }
      ]
    },
    {
      "cell_type": "code",
      "source": [
        "dataset = WineDataSet(wine_data)\n",
        "dataloader = DataLoader(dataset, batch_size = 8, shuffle = True)\n",
        "x_batch, y_batch = next(iter(dataloader))\n",
        "print(x_batch.shape)\n",
        "print(x_batch)\n",
        "print(y_batch.shape)"
      ],
      "metadata": {
        "colab": {
          "base_uri": "https://localhost:8080/"
        },
        "id": "Chu7kHPnNtXV",
        "outputId": "fcc19404-709b-4b91-f041-9ad3812003c0"
      },
      "execution_count": 91,
      "outputs": [
        {
          "output_type": "stream",
          "name": "stdout",
          "text": [
            "torch.Size([8, 11])\n",
            "tensor([[9.7000e+00, 6.6000e-01, 3.4000e-01, 2.6000e+00, 9.4000e-02, 1.2000e+01,\n",
            "         8.8000e+01, 9.9796e-01, 3.2600e+00, 6.6000e-01, 1.0100e+01],\n",
            "        [7.4000e+00, 4.9000e-01, 2.7000e-01, 2.1000e+00, 7.1000e-02, 1.4000e+01,\n",
            "         2.5000e+01, 9.9388e-01, 3.3500e+00, 6.3000e-01, 1.2000e+01],\n",
            "        [1.0300e+01, 5.0000e-01, 4.2000e-01, 2.0000e+00, 6.9000e-02, 2.1000e+01,\n",
            "         5.1000e+01, 9.9820e-01, 3.1600e+00, 7.2000e-01, 1.1500e+01],\n",
            "        [1.0000e+01, 5.6000e-01, 2.4000e-01, 2.2000e+00, 7.9000e-02, 1.9000e+01,\n",
            "         5.8000e+01, 9.9910e-01, 3.1800e+00, 5.6000e-01, 1.0100e+01],\n",
            "        [8.2000e+00, 2.8000e-01, 6.0000e-01, 3.0000e+00, 1.0400e-01, 1.0000e+01,\n",
            "         2.2000e+01, 9.9828e-01, 3.3900e+00, 6.8000e-01, 1.0600e+01],\n",
            "        [8.6000e+00, 7.2500e-01, 2.4000e-01, 6.6000e+00, 1.1700e-01, 3.1000e+01,\n",
            "         1.3400e+02, 1.0014e+00, 3.3200e+00, 1.0700e+00, 9.3000e+00],\n",
            "        [6.3000e+00, 1.0200e+00, 0.0000e+00, 2.0000e+00, 8.3000e-02, 1.7000e+01,\n",
            "         2.4000e+01, 9.9437e-01, 3.5900e+00, 5.5000e-01, 1.1200e+01],\n",
            "        [1.0400e+01, 4.1000e-01, 5.5000e-01, 3.2000e+00, 7.6000e-02, 2.2000e+01,\n",
            "         5.4000e+01, 9.9960e-01, 3.1500e+00, 8.9000e-01, 9.9000e+00]],\n",
            "       dtype=torch.float64)\n",
            "torch.Size([8])\n"
          ]
        }
      ]
    },
    {
      "cell_type": "markdown",
      "source": [
        "# 새 섹션"
      ],
      "metadata": {
        "id": "BJyt0mwjWbZm"
      }
    }
  ]
}
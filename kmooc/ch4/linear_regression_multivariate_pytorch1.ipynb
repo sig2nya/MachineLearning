{
  "nbformat": 4,
  "nbformat_minor": 0,
  "metadata": {
    "colab": {
      "provenance": [],
      "authorship_tag": "ABX9TyNzslQzKKB7FF+O8V3lFlWs",
      "include_colab_link": true
    },
    "kernelspec": {
      "name": "python3",
      "display_name": "Python 3"
    },
    "language_info": {
      "name": "python"
    }
  },
  "cells": [
    {
      "cell_type": "markdown",
      "metadata": {
        "id": "view-in-github",
        "colab_type": "text"
      },
      "source": [
        "<a href=\"https://colab.research.google.com/github/sig2nya/MachineLearning/blob/main/kmooc/ch4/linear_regression_multivariate_pytorch1.ipynb\" target=\"_parent\"><img src=\"https://colab.research.google.com/assets/colab-badge.svg\" alt=\"Open In Colab\"/></a>"
      ]
    },
    {
      "cell_type": "code",
      "execution_count": 11,
      "metadata": {
        "id": "j6D5eZWcpChq"
      },
      "outputs": [],
      "source": [
        "import torch\n",
        "import torch.nn as nn\n",
        "import torch.nn.functional as F\n",
        "from torch.utils.data import TensorDataset\n",
        "from torch.utils.data import DataLoader"
      ]
    },
    {
      "cell_type": "code",
      "source": [
        "x_train = torch.FloatTensor([[73, 80, 75],\n",
        "                             [93, 88, 93],\n",
        "                             [89, 91, 90],\n",
        "                             [96, 98, 100],\n",
        "                             [93, 66, 70]\n",
        "                             ])\n",
        "y_train = torch.FloatTensor([[152], [185], [180], [196], [142]])\n",
        "dataset = TensorDataset(x_train, y_train)\n",
        "dataloader = DataLoader(dataset, batch_size = 2, shuffle = True)\n",
        "# input 값과 expected output value\n",
        "# ex) 국, 영, 수 점수가 x_train의 값으로 주어졌을 때, y_train이 output value"
      ],
      "metadata": {
        "id": "IVV-viO9pkCi"
      },
      "execution_count": 12,
      "outputs": []
    },
    {
      "cell_type": "code",
      "source": [
        "model = nn.Linear(3, 1)\n",
        "optimizer = torch.optim.SGD(model.parameters(), lr = 1e-5)"
      ],
      "metadata": {
        "id": "ieqVB9_uqDJq"
      },
      "execution_count": 5,
      "outputs": []
    },
    {
      "cell_type": "code",
      "source": [
        "nb_epochs = 2000\n",
        "for epoch in range(nb_epochs + 1):\n",
        "  for batch_idx, samples in enumerate(dataloader):\n",
        "    x_train, y_train = samples\n",
        "    prediction = model(x_train)\n",
        "    cost = F.mse_loss(prediction, y_train)\n",
        "\n",
        "    optimizer.zero_grad()\n",
        "    cost.backward()\n",
        "    optimizer.step()\n",
        "\n",
        "  if epoch % 100 == 0:\n",
        "    print(\"epoch : {}, cost : {}\".format(epoch, cost.item()))"
      ],
      "metadata": {
        "colab": {
          "base_uri": "https://localhost:8080/"
        },
        "id": "XFvzMcU-qj-w",
        "outputId": "22c62855-1292-480b-cc2c-fbb9aef206f8"
      },
      "execution_count": 13,
      "outputs": [
        {
          "output_type": "stream",
          "name": "stdout",
          "text": [
            "epoch : 0, cost : 6.035053253173828\n",
            "epoch : 100, cost : 0.9736259579658508\n",
            "epoch : 200, cost : 0.9119701981544495\n",
            "epoch : 300, cost : 0.004920272156596184\n",
            "epoch : 400, cost : 0.13415515422821045\n",
            "epoch : 500, cost : 0.9311884641647339\n",
            "epoch : 600, cost : 1.3826768398284912\n",
            "epoch : 700, cost : 0.008449092507362366\n",
            "epoch : 800, cost : 7.757010459899902\n",
            "epoch : 900, cost : 0.039439234882593155\n",
            "epoch : 1000, cost : 8.702932357788086\n",
            "epoch : 1100, cost : 1.740929126739502\n",
            "epoch : 1200, cost : 1.5047924518585205\n",
            "epoch : 1300, cost : 6.747580051422119\n",
            "epoch : 1400, cost : 9.787667274475098\n",
            "epoch : 1500, cost : 3.970635175704956\n",
            "epoch : 1600, cost : 11.079259872436523\n",
            "epoch : 1700, cost : 9.081758499145508\n",
            "epoch : 1800, cost : 2.6365602016448975\n",
            "epoch : 1900, cost : 5.755650043487549\n",
            "epoch : 2000, cost : 0.06667200475931168\n"
          ]
        }
      ]
    },
    {
      "cell_type": "code",
      "source": [
        "new_var = torch.FloatTensor([[73, 80, 75]])\n",
        "pred_y = model(new_var)\n",
        "print(pred_y)"
      ],
      "metadata": {
        "colab": {
          "base_uri": "https://localhost:8080/"
        },
        "id": "pCiR9LfyrGS6",
        "outputId": "5910a815-8a0d-4fc9-84a0-c07791312ef2"
      },
      "execution_count": 14,
      "outputs": [
        {
          "output_type": "stream",
          "name": "stdout",
          "text": [
            "tensor([[152.3035]], grad_fn=<AddmmBackward0>)\n"
          ]
        }
      ]
    }
  ]
}
{
  "nbformat": 4,
  "nbformat_minor": 0,
  "metadata": {
    "colab": {
      "provenance": [],
      "authorship_tag": "ABX9TyPp2YHsao/gzxJe6ooY50GR",
      "include_colab_link": true
    },
    "kernelspec": {
      "name": "python3",
      "display_name": "Python 3"
    },
    "language_info": {
      "name": "python"
    }
  },
  "cells": [
    {
      "cell_type": "markdown",
      "metadata": {
        "id": "view-in-github",
        "colab_type": "text"
      },
      "source": [
        "<a href=\"https://colab.research.google.com/github/sig2nya/MachineLearning/blob/main/MachineLearning/kmooc/ch4/linear_regression_pytorch1.ipynb\" target=\"_parent\"><img src=\"https://colab.research.google.com/assets/colab-badge.svg\" alt=\"Open In Colab\"/></a>"
      ]
    },
    {
      "cell_type": "code",
      "execution_count": 2,
      "metadata": {
        "id": "ehtFdzQC0qKD"
      },
      "outputs": [],
      "source": [
        "import torch\n",
        "import torch.nn as nn\n",
        "import torch.nn.functional as F"
      ]
    },
    {
      "cell_type": "code",
      "source": [
        "x_train = torch.FloatTensor([[1], [2], [3]]) # input value\n",
        "y_train = torch.FloatTensor([[2], [4], [6]]) # expected value\n",
        "# hypothesis : x와 y의 상관관계를 구하고 싶다. 즉, linear 관계를 확인하고 싶으며 y = wx + b의 관계가 존재하는지 확인하고 싶다.\n"
      ],
      "metadata": {
        "id": "WhMo0tZP06Uk"
      },
      "execution_count": 13,
      "outputs": []
    },
    {
      "cell_type": "code",
      "source": [
        "model = nn.Linear(1, 1) # input count / output count"
      ],
      "metadata": {
        "id": "NjMyO4hf1jtz"
      },
      "execution_count": 5,
      "outputs": []
    },
    {
      "cell_type": "code",
      "source": [
        "optimizer = torch.optim.SGD(model.parameters(), lr=0.01) # w와 b를 최적화(optimizing) 수행을 위한 코드"
      ],
      "metadata": {
        "id": "WrdtjcXN1slN"
      },
      "execution_count": 8,
      "outputs": []
    },
    {
      "cell_type": "code",
      "source": [
        "nb_epochs = 2000 # model을 2000번 학습시키며 epoch 값 조절"
      ],
      "metadata": {
        "id": "ajFL9Kmn2G6Z"
      },
      "execution_count": 9,
      "outputs": []
    },
    {
      "cell_type": "code",
      "source": [
        "for epoch in range(nb_epochs + 1):\n",
        "  prediction = model(x_train)\n",
        "  cost = F.mse_loss(prediction, y_train) # error value 도출\n",
        "  optimizer.zero_grad() # initializing Gradient value \n",
        "  cost.backward()\n",
        "  optimizer.step()\n",
        "\n",
        "  if epoch % 100 == 0:\n",
        "    print(\"Epoch : {} / Cost : {}\".format(epoch, cost.item()))"
      ],
      "metadata": {
        "colab": {
          "base_uri": "https://localhost:8080/"
        },
        "id": "3nVoZXBM2Rr8",
        "outputId": "df8a0eb3-fb72-46da-9e79-a7b3e98a1eb7"
      },
      "execution_count": 14,
      "outputs": [
        {
          "output_type": "stream",
          "name": "stdout",
          "text": [
            "Epoch : 0 / Cost : 4.559601306915283\n",
            "Epoch : 100 / Cost : 0.13277342915534973\n",
            "Epoch : 200 / Cost : 0.08204589039087296\n",
            "Epoch : 300 / Cost : 0.050699323415756226\n",
            "Epoch : 400 / Cost : 0.031329039484262466\n",
            "Epoch : 500 / Cost : 0.01935943029820919\n",
            "Epoch : 600 / Cost : 0.01196299772709608\n",
            "Epoch : 700 / Cost : 0.007392365485429764\n",
            "Epoch : 800 / Cost : 0.004568056203424931\n",
            "Epoch : 900 / Cost : 0.002822767710313201\n",
            "Epoch : 1000 / Cost : 0.0017442962853237987\n",
            "Epoch : 1100 / Cost : 0.0010778730502352118\n",
            "Epoch : 1200 / Cost : 0.0006660574581474066\n",
            "Epoch : 1300 / Cost : 0.0004115868068765849\n",
            "Epoch : 1400 / Cost : 0.0002543383161537349\n",
            "Epoch : 1500 / Cost : 0.0001571632456034422\n",
            "Epoch : 1600 / Cost : 9.711438178783283e-05\n",
            "Epoch : 1700 / Cost : 6.001204019412398e-05\n",
            "Epoch : 1800 / Cost : 3.7083013012306765e-05\n",
            "Epoch : 1900 / Cost : 2.291533564857673e-05\n",
            "Epoch : 2000 / Cost : 1.4159911188471597e-05\n"
          ]
        }
      ]
    },
    {
      "cell_type": "code",
      "source": [
        "print(model.weight.data, model.bias.data) # 2와 1 근사치에 가까운 값 -> model이 learning을 잘 수행했음을 알 수 있음"
      ],
      "metadata": {
        "colab": {
          "base_uri": "https://localhost:8080/"
        },
        "id": "XdeyxWDH3pWp",
        "outputId": "de778856-9fa2-466d-ff4e-8711af65ce2c"
      },
      "execution_count": 17,
      "outputs": [
        {
          "output_type": "stream",
          "name": "stdout",
          "text": [
            "tensor([[1.9956]]) tensor([0.0099])\n"
          ]
        }
      ]
    },
    {
      "cell_type": "code",
      "source": [
        "new_var = torch.FloatTensor([[4.0]])\n",
        "pred_y = model(new_var) # 새로운 data를 model에게 예측시킴킴\n",
        "print(pred_y)"
      ],
      "metadata": {
        "colab": {
          "base_uri": "https://localhost:8080/"
        },
        "id": "dlqZwnNd37fF",
        "outputId": "ae3ad12d-721d-4df1-c1df-f97e8a030cf5"
      },
      "execution_count": 19,
      "outputs": [
        {
          "output_type": "stream",
          "name": "stdout",
          "text": [
            "tensor([[7.9925]], grad_fn=<AddmmBackward0>)\n"
          ]
        }
      ]
    }
  ]
}

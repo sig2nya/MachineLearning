{
  "nbformat": 4,
  "nbformat_minor": 0,
  "metadata": {
    "colab": {
      "provenance": [],
      "mount_file_id": "19-m0ul3Uj19dzbV2LgDMYSkPN5Hi1yF0",
      "authorship_tag": "ABX9TyNPSK5ZtQg95am3rTkIs81e",
      "include_colab_link": true
    },
    "kernelspec": {
      "name": "python3",
      "display_name": "Python 3"
    },
    "language_info": {
      "name": "python"
    }
  },
  "cells": [
    {
      "cell_type": "markdown",
      "metadata": {
        "id": "view-in-github",
        "colab_type": "text"
      },
      "source": [
        "<a href=\"https://colab.research.google.com/github/sig2nya/MachineLearning/blob/main/lib/numpy_tutor.ipynb\" target=\"_parent\"><img src=\"https://colab.research.google.com/assets/colab-badge.svg\" alt=\"Open In Colab\"/></a>"
      ]
    },
    {
      "cell_type": "code",
      "execution_count": 4,
      "metadata": {
        "colab": {
          "base_uri": "https://localhost:8080/"
        },
        "id": "12ZiS4EqG_Ih",
        "outputId": "91f12580-a62d-455c-e9c9-0d880dd786c8"
      },
      "outputs": [
        {
          "output_type": "stream",
          "name": "stdout",
          "text": [
            "1.25.2\n",
            "numpy\n"
          ]
        }
      ],
      "source": [
        "import numpy as np\n",
        "print(np.__version__)\n",
        "print(np.__name__)"
      ]
    },
    {
      "cell_type": "code",
      "source": [
        "# 1. List\n",
        "# 확장성에 유리, 수치 계산에 불리\n",
        "list1 = [1, 2, 3]\n",
        "list2 = [4, 5, 6]\n",
        "print(type(list1))\n",
        "print(list1 + list2)"
      ],
      "metadata": {
        "colab": {
          "base_uri": "https://localhost:8080/"
        },
        "id": "NW17BJnDHVT-",
        "outputId": "af5e719a-7130-4091-de65-c7ebd2ed72cd"
      },
      "execution_count": 7,
      "outputs": [
        {
          "output_type": "stream",
          "name": "stdout",
          "text": [
            "<class 'list'>\n",
            "[1, 2, 3, 4, 5, 6]\n"
          ]
        }
      ]
    },
    {
      "cell_type": "code",
      "source": [
        "# 2. Array. List의 경우 다중 데이터 타입 수용 가능하나, Array의 경우 단일 데이터 타입만 수용 가능. 성능 면에서는 np.array가 훨 빠름(대규모 데이터)\n",
        "array = np.array([1, 2, 3])\n",
        "print('array type : ', type(array))\n",
        "print('-' * 10)\n",
        "print('array')\n",
        "print(array)\n",
        "print('-' * 10)\n",
        "print('array dimension : ', array.ndim) # Array's Dimention\n",
        "print('array shape : ', array.shape)\n",
        "\n",
        "array2 = np.array(\n",
        "    [\n",
        "        [1, 2, 3],\n",
        "        [4, 5, 6]\n",
        "    ]\n",
        ")\n",
        "print('-' * 10)\n",
        "print('array2')\n",
        "print(array2)\n",
        "print('-' * 10)\n",
        "print('array2 dimension : ', array2.ndim)\n",
        "print('array2 dtype : ', array2.dtype)\n",
        "\n",
        "array_float = np.array([[1, 2, 3], [4, 5, 6]], dtype=np.float64)\n",
        "print('array_float dtype : ', array_float.dtype)\n",
        "print('array_float size : ', array_float.size)\n",
        "\n",
        "array = np.array([[1, 2, 3], [4, 5, 6]])\n",
        "print('array transpose : \\n', array.T)"
      ],
      "metadata": {
        "colab": {
          "base_uri": "https://localhost:8080/"
        },
        "id": "i9cLbnmvHofU",
        "outputId": "29dfcb9c-4f8b-43d7-8451-7809df636a19"
      },
      "execution_count": 25,
      "outputs": [
        {
          "output_type": "stream",
          "name": "stdout",
          "text": [
            "array type :  <class 'numpy.ndarray'>\n",
            "----------\n",
            "array\n",
            "[1 2 3]\n",
            "----------\n",
            "array dimension :  1\n",
            "array shape :  (3,)\n",
            "----------\n",
            "array2\n",
            "[[1 2 3]\n",
            " [4 5 6]]\n",
            "----------\n",
            "array2 dimension :  2\n",
            "array2 dtype :  int64\n",
            "array_float dtype :  float64\n",
            "array_float size :  6\n",
            "array transpose : \n",
            " [[1 4]\n",
            " [2 5]\n",
            " [3 6]]\n"
          ]
        }
      ]
    },
    {
      "cell_type": "code",
      "source": [
        "# 3. arange() range와 유사한 함수. 수열을 생성하기 위해 주로 사용. 숫자 시퀀스 생성\n",
        "print('Ch 1')\n",
        "a = np.arange(10)\n",
        "print(a)\n",
        "\n",
        "a = np.arange(2, 10)\n",
        "print(a)\n",
        "\n",
        "a = np.arange(1, 10, 2) # Step Setting\n",
        "print(a)\n",
        "\n",
        "# 4. linspace() 수의 범위를 균일하게 나눌 때 사용\n",
        "print('\\n')\n",
        "print('Ch 2')\n",
        "b = np.linspace(1, 11, 10)\n",
        "print(b)"
      ],
      "metadata": {
        "colab": {
          "base_uri": "https://localhost:8080/"
        },
        "id": "0irJ-qapMnaP",
        "outputId": "b711bc61-d5b0-433e-ee18-2b9f2bc1d311"
      },
      "execution_count": 39,
      "outputs": [
        {
          "output_type": "stream",
          "name": "stdout",
          "text": [
            "Ch 1\n",
            "[0 1 2 3 4 5 6 7 8 9]\n",
            "[2 3 4 5 6 7 8 9]\n",
            "[1 3 5 7 9]\n",
            "\n",
            "\n",
            "Ch 2\n",
            "[ 1.          2.11111111  3.22222222  4.33333333  5.44444444  6.55555556\n",
            "  7.66666667  8.77777778  9.88888889 11.        ]\n"
          ]
        }
      ]
    },
    {
      "cell_type": "code",
      "source": [
        "# 4. zeros, one, full\n",
        "zeros = np.zeros(shape=(3, 5))\n",
        "print(zeros)\n",
        "\n",
        "ones = np.ones(shape=(3, 5))\n",
        "print(ones)\n",
        "\n",
        "full = np.full(shape=(3, 5), fill_value=5)\n",
        "print(full)"
      ],
      "metadata": {
        "colab": {
          "base_uri": "https://localhost:8080/"
        },
        "id": "hTPF2y_0OFyI",
        "outputId": "a361c786-e64a-4693-d5f5-bc66fa4235e1"
      },
      "execution_count": 44,
      "outputs": [
        {
          "output_type": "stream",
          "name": "stdout",
          "text": [
            "[[0. 0. 0. 0. 0.]\n",
            " [0. 0. 0. 0. 0.]\n",
            " [0. 0. 0. 0. 0.]]\n",
            "[[1. 1. 1. 1. 1.]\n",
            " [1. 1. 1. 1. 1.]\n",
            " [1. 1. 1. 1. 1.]]\n",
            "[[5 5 5 5 5]\n",
            " [5 5 5 5 5]\n",
            " [5 5 5 5 5]]\n"
          ]
        }
      ]
    },
    {
      "cell_type": "code",
      "source": [
        "# 5. eye() Identical matrix 생성.(단위행렬)\n",
        "a = np.eye(5)\n",
        "print(a)\n",
        "print(type(a))"
      ],
      "metadata": {
        "colab": {
          "base_uri": "https://localhost:8080/"
        },
        "id": "iprWUAd7c64J",
        "outputId": "29cd00f0-695c-47a7-8d52-ae387b23b185"
      },
      "execution_count": 47,
      "outputs": [
        {
          "output_type": "stream",
          "name": "stdout",
          "text": [
            "[[1. 0. 0. 0. 0.]\n",
            " [0. 1. 0. 0. 0.]\n",
            " [0. 0. 1. 0. 0.]\n",
            " [0. 0. 0. 1. 0.]\n",
            " [0. 0. 0. 0. 1.]]\n",
            "<class 'numpy.ndarray'>\n"
          ]
        }
      ]
    },
    {
      "cell_type": "code",
      "source": [
        "# 6. randn() 난수 생성\n",
        "a = np.random.randn(5)\n",
        "print(a)\n",
        "\n",
        "print('[3 * 5 array]')\n",
        "a = np.random.randn(3, 5)\n",
        "print(a)"
      ],
      "metadata": {
        "colab": {
          "base_uri": "https://localhost:8080/"
        },
        "id": "rBygTWkzdNWc",
        "outputId": "9ad9650c-968b-431c-c97d-118b6fd8478c"
      },
      "execution_count": 53,
      "outputs": [
        {
          "output_type": "stream",
          "name": "stdout",
          "text": [
            "[-1.78483799  0.01215034 -0.39900439 -0.04409165  0.96953828]\n",
            "[3 * 5 array]\n",
            "[[ 0.81658627 -0.90924451 -1.70828931  1.20141249 -0.16370741]\n",
            " [-1.73423196  0.54248252 -0.38349281  1.23285766  1.75216115]\n",
            " [-1.28017358 -0.11588327  0.63709131 -0.26153103  1.45524248]]\n"
          ]
        }
      ]
    },
    {
      "cell_type": "code",
      "source": [
        "import numpy as np\n",
        "arr = np.array([1, 2, 3, 4, 5])\n",
        "print(arr.shape)\n",
        "print(arr[2])\n",
        "print(arr[-1])\n",
        "# print(arr[6]) # Error!!!"
      ],
      "metadata": {
        "colab": {
          "base_uri": "https://localhost:8080/"
        },
        "id": "zaffTeo9deCB",
        "outputId": "7f35930f-fc40-4fc5-9f1a-1feef64efd21"
      },
      "execution_count": 29,
      "outputs": [
        {
          "output_type": "stream",
          "name": "stdout",
          "text": [
            "(5,)\n",
            "3\n",
            "5\n"
          ]
        }
      ]
    },
    {
      "cell_type": "code",
      "source": [
        "arr = np.array([\n",
        "    [1, 2, 3, 4, 5],\n",
        "    [6, 7, 8, 9, 10],\n",
        "    [11, 12 ,13 ,14, 15]\n",
        "])\n",
        "print(arr.shape)\n",
        "print(arr[2, 3])\n",
        "print(arr[2][3])"
      ],
      "metadata": {
        "colab": {
          "base_uri": "https://localhost:8080/"
        },
        "id": "_9bWoBBkCzhQ",
        "outputId": "8fc76e7f-7b50-4f8b-a952-8950aea36703"
      },
      "execution_count": 12,
      "outputs": [
        {
          "output_type": "stream",
          "name": "stdout",
          "text": [
            "(3, 5)\n",
            "14\n",
            "14\n"
          ]
        }
      ]
    },
    {
      "cell_type": "code",
      "source": [
        "arr = np.array([1, 2, 3, 4, 5])\n",
        "print(arr[:2])\n",
        "print(arr[-2:])"
      ],
      "metadata": {
        "colab": {
          "base_uri": "https://localhost:8080/"
        },
        "id": "ziLRt5ywDIGY",
        "outputId": "20c4df2c-5f0f-405f-c5e4-3919e700cbf9"
      },
      "execution_count": 16,
      "outputs": [
        {
          "output_type": "stream",
          "name": "stdout",
          "text": [
            "[1 2]\n",
            "[4 5]\n"
          ]
        }
      ]
    },
    {
      "cell_type": "code",
      "source": [
        "arr = np.array(\n",
        "    [\n",
        "     [1, 2, 3, 4, 5],\n",
        "     [6, 7, 8, 9, 10],\n",
        "     [11, 12, 13 ,14, 15]\n",
        "     ]\n",
        ")\n",
        "\n",
        "print(arr[:, 1:3])\n",
        "print(arr[:2, 1:3])"
      ],
      "metadata": {
        "colab": {
          "base_uri": "https://localhost:8080/"
        },
        "id": "XUhONFKbDSZl",
        "outputId": "58687e33-2f34-4a40-eb7c-79ec63207a21"
      },
      "execution_count": 21,
      "outputs": [
        {
          "output_type": "stream",
          "name": "stdout",
          "text": [
            "[[ 2  3]\n",
            " [ 7  8]\n",
            " [12 13]]\n",
            "[[2 3]\n",
            " [7 8]]\n"
          ]
        }
      ]
    },
    {
      "cell_type": "code",
      "source": [
        "arr = np.arange(15)\n",
        "print(arr)\n",
        "print(f'ndim : {arr.ndim}, shape : {arr.shape}')\n",
        "print(arr.reshape(5, 3))\n",
        "print(arr.reshape(5, -1))\n",
        "print(arr.reshape(-1, 5))"
      ],
      "metadata": {
        "colab": {
          "base_uri": "https://localhost:8080/"
        },
        "id": "GWyGYXu6Duqk",
        "outputId": "e85e97a5-44a7-41fe-9985-8a582e57b88e"
      },
      "execution_count": 28,
      "outputs": [
        {
          "output_type": "stream",
          "name": "stdout",
          "text": [
            "[ 0  1  2  3  4  5  6  7  8  9 10 11 12 13 14]\n",
            "ndim : 1, shape : (15,)\n",
            "[[ 0  1  2]\n",
            " [ 3  4  5]\n",
            " [ 6  7  8]\n",
            " [ 9 10 11]\n",
            " [12 13 14]]\n",
            "[[ 0  1  2]\n",
            " [ 3  4  5]\n",
            " [ 6  7  8]\n",
            " [ 9 10 11]\n",
            " [12 13 14]]\n",
            "[[ 0  1  2  3  4]\n",
            " [ 5  6  7  8  9]\n",
            " [10 11 12 13 14]]\n"
          ]
        }
      ]
    },
    {
      "cell_type": "code",
      "source": [
        "x = np.array([[10, 20], [30, 40]])\n",
        "y = np.array([[5, 6], [7, 8]])\n",
        "\n",
        "print(x + y)\n",
        "print(x - y)\n",
        "print(x * y)\n",
        "print(x / y)\n",
        "print(x % y)\n",
        "print(x // y)"
      ],
      "metadata": {
        "colab": {
          "base_uri": "https://localhost:8080/"
        },
        "id": "B9-sGFrLdToc",
        "outputId": "e1c694f5-ae95-4da5-fa3e-68ab9fe57e10"
      },
      "execution_count": 31,
      "outputs": [
        {
          "output_type": "stream",
          "name": "stdout",
          "text": [
            "[[15 26]\n",
            " [37 48]]\n",
            "[[ 5 14]\n",
            " [23 32]]\n",
            "[[ 50 120]\n",
            " [210 320]]\n",
            "[[2.         3.33333333]\n",
            " [4.28571429 5.        ]]\n",
            "[[0 2]\n",
            " [2 0]]\n",
            "[[2 3]\n",
            " [4 5]]\n"
          ]
        }
      ]
    }
  ]
}